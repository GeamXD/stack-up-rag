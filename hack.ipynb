{
  "cells": [
    {
      "cell_type": "code",
      "execution_count": null,
      "metadata": {
        "id": "ALIM0jFzaMn9"
      },
      "outputs": [],
      "source": [
        "# !pip install -r requirements.txt"
      ]
    },
    {
      "cell_type": "code",
      "execution_count": null,
      "metadata": {
        "id": "hT7r1Lj3kgSN"
      },
      "outputs": [],
      "source": [
        "# !mkdir data\n",
        "# !mv stack-help_data.json data/"
      ]
    },
    {
      "cell_type": "code",
      "execution_count": 10,
      "metadata": {
        "colab": {
          "base_uri": "https://localhost:8080/",
          "height": 487
        },
        "id": "wxdzz_exY9vn",
        "outputId": "d4782b75-d2e6-4d75-e84b-002e76ca7838"
      },
      "outputs": [
        {
          "data": {
            "text/html": [
              "<div>\n",
              "<style scoped>\n",
              "    .dataframe tbody tr th:only-of-type {\n",
              "        vertical-align: middle;\n",
              "    }\n",
              "\n",
              "    .dataframe tbody tr th {\n",
              "        vertical-align: top;\n",
              "    }\n",
              "\n",
              "    .dataframe thead th {\n",
              "        text-align: right;\n",
              "    }\n",
              "</style>\n",
              "<table border=\"1\" class=\"dataframe\">\n",
              "  <thead>\n",
              "    <tr style=\"text-align: right;\">\n",
              "      <th></th>\n",
              "      <th>article_title</th>\n",
              "      <th>article_links</th>\n",
              "      <th>article_body</th>\n",
              "      <th>article_title_cleaned</th>\n",
              "      <th>article_body_cleaned</th>\n",
              "    </tr>\n",
              "  </thead>\n",
              "  <tbody>\n",
              "    <tr>\n",
              "      <th>73</th>\n",
              "      <td>21 Collyer Quay, Singapore 049320</td>\n",
              "      <td>https://stackuphelpcentre.zendesk.com/hc/en-us...</td>\n",
              "      <td></td>\n",
              "      <td>21 collyer quay, singapore 049320</td>\n",
              "      <td>Empty</td>\n",
              "    </tr>\n",
              "  </tbody>\n",
              "</table>\n",
              "</div>"
            ],
            "text/plain": [
              "                        article_title  \\\n",
              "73  21 Collyer Quay, Singapore 049320   \n",
              "\n",
              "                                        article_links article_body  \\\n",
              "73  https://stackuphelpcentre.zendesk.com/hc/en-us...                \n",
              "\n",
              "                article_title_cleaned article_body_cleaned  \n",
              "73  21 collyer quay, singapore 049320                Empty  "
            ]
          },
          "execution_count": 10,
          "metadata": {},
          "output_type": "execute_result"
        }
      ],
      "source": [
        "import os\n",
        "import json\n",
        "import pandas as pd\n",
        "import datetime\n",
        "import re\n",
        "import string\n",
        "import numpy as np\n",
        "\n",
        "def wrangle_data(filepath: str) -> pd.DataFrame:\n",
        "    \"\"\"\n",
        "    This function reads in the data from the filepath, cleans it and returns a pandas dataframe\n",
        "\n",
        "    Args:\n",
        "    filepath: str: a path to the json file\n",
        "\n",
        "    Returns:\n",
        "    df: pd.DataFrame: a pandas dataframe with the cleaned data\n",
        "\n",
        "    \"\"\"\n",
        "    # load data\n",
        "    with open(filepath, 'r', encoding='utf-8') as f:\n",
        "        data = json.load(f)\n",
        "\n",
        "    # Get article body, urls and titles\n",
        "    doc = {\n",
        "        'article_title': data['article_link_title'],\n",
        "        'article_links': data['article_links'],\n",
        "        'article_body': data['article_body'],\n",
        "    }\n",
        "\n",
        "\n",
        "    # Store the data in a pandas dataframe\n",
        "    df = pd.DataFrame(doc)\n",
        "\n",
        "\n",
        "    ## Clean article title\n",
        "    # Remove the forward-slash character\n",
        "    df['article_title_cleaned'] = df['article_title'].str.replace(r\"\\/\",\"\")\n",
        "\n",
        "    # Remove punctuation\n",
        "    df['article_title_cleaned'] = df['article_title_cleaned'].str.translate(string.punctuation)\n",
        "\n",
        "    # Remove digits\n",
        "    df['article_title_cleaned'] = df['article_title_cleaned'].str.replace(r\"\\d+\",\"\")\n",
        "\n",
        "    # Remove running spaces\n",
        "    df['article_title_cleaned'] = df['article_title_cleaned'].str.replace(r\"\\s{2,}\",\"\")\n",
        "\n",
        "    # Make the text lowercase\n",
        "    df['article_title_cleaned'] = df['article_title_cleaned'].str.lower()\n",
        "\n",
        "    ## Clean article body\n",
        "\n",
        "    # Remove the forward-slash character\n",
        "    df['article_body_cleaned'] = df['article_body'].str.replace(r\"\\/\",\"\")\n",
        "\n",
        "    # Remove punctuation\n",
        "    df['article_body_cleaned'] = df['article_body_cleaned'].str.translate(string.punctuation)\n",
        "\n",
        "    # Remove digits\n",
        "    df['article_body_cleaned'] = df['article_body_cleaned'].str.replace(r\"\\d+\",\"\")\n",
        "\n",
        "    # Remove running spaces\n",
        "    df['article_body_cleaned'] = df['article_body_cleaned'].str.replace(r\"\\s{2,}\",\"\")\n",
        "\n",
        "    # Make the text lowercase\n",
        "    df['article_body_cleaned'] = df['article_body_cleaned'].str.lower()\n",
        "\n",
        "    # Remove double white space\n",
        "    df['article_body_cleaned'] = df['article_body_cleaned'].str.replace('  ', '')\n",
        "\n",
        "    # Fills empty article with word Empty\n",
        "    df['article_body_cleaned'] = df['article_body_cleaned'].replace('', 'Empty')\n",
        "\n",
        "    return df\n",
        "\n",
        "\n",
        "doc_df = wrangle_data('data/stack-help_data.json')"
      ]
    },
    {
      "cell_type": "code",
      "execution_count": 11,
      "metadata": {
        "colab": {
          "base_uri": "https://localhost:8080/"
        },
        "id": "tTqOy_yMkTQh",
        "outputId": "1b456fab-3204-4b39-b50a-9acf56ae86e5"
      },
      "outputs": [
        {
          "name": "stderr",
          "output_type": "stream",
          "text": [
            "/tmp/ipykernel_4085/2781939301.py:5: SettingWithCopyWarning: \n",
            "A value is trying to be set on a copy of a slice from a DataFrame\n",
            "\n",
            "See the caveats in the documentation: https://pandas.pydata.org/pandas-docs/stable/user_guide/indexing.html#returning-a-view-versus-a-copy\n",
            "  new_df.rename(columns={'article_title_cleaned': 'title', 'article_body_cleaned': 'page_content', 'article_links': 'urls'}, inplace=True)\n"
          ]
        }
      ],
      "source": [
        "# Import DataFrameLoader\n",
        "from langchain.document_loaders import DataFrameLoader\n",
        "\n",
        "new_df = doc_df[['article_title_cleaned', 'article_body_cleaned', 'article_links']]\n",
        "new_df.rename(columns={'article_title_cleaned': 'title', 'article_body_cleaned': 'page_content', 'article_links': 'urls'}, inplace=True)\n"
      ]
    },
    {
      "cell_type": "code",
      "execution_count": 13,
      "metadata": {
        "colab": {
          "base_uri": "https://localhost:8080/"
        },
        "id": "ttV9HaiKqXff",
        "outputId": "148186f8-992f-4ca6-e43d-c3e9502d7d49"
      },
      "outputs": [
        {
          "data": {
            "text/plain": [
              "Document(metadata={'title': '21 collyer quay, singapore 049320', 'urls': 'https://stackuphelpcentre.zendesk.com/hc/en-us/articles/21537922604441-21-Collyer-Quay-Singapore-049320'}, page_content='Empty')"
            ]
          },
          "execution_count": 13,
          "metadata": {},
          "output_type": "execute_result"
        }
      ],
      "source": [
        "# The page content column is 'page_content'\n",
        "docs = DataFrameLoader(\n",
        "    new_df,\n",
        "    page_content_column=\"page_content\",\n",
        ").load()\n",
        "\n",
        "# Print the first 3 documents and the number of documents\n",
        "docs[-1]\n",
        "# display(f\"Number of documents: {len(docs)}\")"
      ]
    },
    {
      "cell_type": "code",
      "execution_count": 6,
      "metadata": {
        "id": "Qql0LsZztCDA"
      },
      "outputs": [
        {
          "name": "stderr",
          "output_type": "stream",
          "text": [
            "/workspace/.pyenv_mirror/user/current/lib/python3.12/site-packages/pinecone/data/index.py:1: TqdmWarning: IProgress not found. Please update jupyter and ipywidgets. See https://ipywidgets.readthedocs.io/en/stable/user_install.html\n",
            "  from tqdm.autonotebook import tqdm\n"
          ]
        }
      ],
      "source": [
        "# Import os and pinecone\n",
        "import pinecone\n",
        "\n",
        "# Set the pinecone api key from the environment variable. Assign to api_key.\n",
        "api_key=os.getenv(\"PINECONE_API_KEY\")\n",
        "\n",
        "# Initialize pinecone using the `PINECONE_API_KEY` variable.\n",
        "pc = pinecone.Pinecone(api_key)\n",
        "\n",
        "# Import os and pinecone\n",
        "# Use this index name\n",
        "index_name = \"stackragapp\"\n",
        "\n",
        "# List the names of available indexes. Assign to existing_index_names.\n",
        "existing_index_names = [idx.name for idx in pc.list_indexes().indexes]\n",
        "\n",
        "# First check that the given index does not exist yet\n",
        "if index_name not in existing_index_names:\n",
        "    # Create the 'imbd-movies' index with cosine metric, 1536 dims, serverless spec: aws in us-east-1\n",
        "    pc.create_index(\n",
        "        name=index_name,\n",
        "        metric='cosine',\n",
        "        dimension=768,\n",
        "        spec=pinecone.ServerlessSpec(cloud=\"aws\", region=\"us-east-1\")\n",
        "    )"
      ]
    },
    {
      "cell_type": "code",
      "execution_count": 17,
      "metadata": {
        "colab": {
          "base_uri": "https://localhost:8080/",
          "height": 384
        },
        "id": "ZLsdw3K8wQpr",
        "outputId": "37442e97-2117-497a-aaea-bbdfc5b76426"
      },
      "outputs": [],
      "source": [
        "from langchain_together import TogetherEmbeddings\n",
        "\n",
        "# Create the embeddings object\n",
        "embeddings = TogetherEmbeddings()\n",
        "\n",
        "# From the langchain_pinecone package, import PineconeVectorStore\n",
        "from langchain_pinecone import PineconeVectorStore\n",
        "\n",
        "# Create an index from its name\n",
        "index = pc.Index(index_name)"
      ]
    },
    {
      "cell_type": "code",
      "execution_count": 19,
      "metadata": {
        "colab": {
          "base_uri": "https://localhost:8080/",
          "height": 373
        },
        "id": "XMnDsWC1wkuc",
        "outputId": "36f59c88-4efd-42ab-8d88-20f8c242365f"
      },
      "outputs": [
        {
          "name": "stdout",
          "output_type": "stream",
          "text": [
            "There are 74 vectors in the index already.\n"
          ]
        }
      ],
      "source": [
        "# Count the number of vectors in the index\n",
        "n_vectors = index.describe_index_stats()['total_vector_count']\n",
        "print(f\"There are {n_vectors} vectors in the index already.\")\n",
        "\n",
        "# Check if there is already some data in the index on Pinecone\n",
        "if n_vectors > 0:\n",
        "    # If there is, get the documents to search from the index. Assign to docsearch.\n",
        "    docsearch = PineconeVectorStore.from_existing_index(index_name, embeddings)\n",
        "else:\n",
        "    # If not, fill the index from the documents and return those docs to assign to docsearch\n",
        "    docsearch = PineconeVectorStore.from_documents(docs, embeddings, index_name=index_name)"
      ]
    },
    {
      "cell_type": "code",
      "execution_count": 20,
      "metadata": {},
      "outputs": [
        {
          "name": "stdout",
          "output_type": "stream",
          "text": [
            "These are the documents most relevant to the question:\n"
          ]
        },
        {
          "data": {
            "text/plain": [
              "[Document(metadata={'title': \"why can't i  join a quest?\", 'urls': 'https://stackuphelpcentre.zendesk.com/hc/en-us/articles/13043680713625-Why-can-t-I-join-a-quest'}, page_content='1. you might be attempting to join a quest that has a pre-requisitesome quests may have pre-requisite quests. in such cases, you need to have at least joined the pre-requisite quest, before you can join the next quest. 2. you might be attempting to join a repeated quest if you already participated in a repeated quest and got rewarded, you will be unable to join this new repeated quest, to give other players a fair chance. check out this article on what are pre-requisite and repeated quests? 3. the quest has not started yetquests are only available for registration on the start date and time indicated.'),\n",
              " Document(metadata={'title': 'is it necessary to complete a prerequisite quest before joining a bounty?', 'urls': 'https://stackuphelpcentre.zendesk.com/hc/en-us/articles/19285174681881-Is-it-necessary-to-complete-a-prerequisite-quest-before-joining-a-bounty'}, page_content=\"no, you do not need to complete prerequisite quests before joining a bounty. however, some bounties build off of the material taught in past quests. if you haven't participated in the relevant quest, not to worry! for bounties that build off of quests, we will link the relevant quest directly in the bounty to direct you to the appropriate learning content. here, you will find step-by-step instructions starting from the basics to gain sufficient knowledge to participate and submit a high-quality bounty deliverable. related topics:what is bounty?how are stackup bounties different from quests?do i receive exp for a bounty submission?can i make more than one submission for the same bounty?can i edit my work after i’ve submitted it on the platform?\"),\n",
              " Document(metadata={'title': 'can i edit my work after i’ve submitted it on the platform?', 'urls': 'https://stackuphelpcentre.zendesk.com/hc/en-us/articles/19285220538649-Can-I-edit-my-work-after-I-ve-submitted-it-on-the-platform'}, page_content='submissions to the platform cannot be edited. however, if you have submitted a link to your github repository, you may continue to edit the contents of the repository until the bounty deadline. any submissions with changes made after the deadline will be disqualified. related topics: what is bounty? how are stackup bounties different from quests?do i receive exp for a bounty submission?can i make more than one submission for the same bounty?is it necessary to complete a prerequisite quest before joining a bounty?'),\n",
              " Document(metadata={'title': 'can i make more than one submission for the same bounty?', 'urls': 'https://stackuphelpcentre.zendesk.com/hc/en-us/articles/19285153722649-Can-I-make-more-than-one-submission-for-the-same-Bounty'}, page_content='no, each person can only make one submission for one bounty. related topics:what is bounty?how are stackup bounties different from quests?do i receive exp for a bounty submission?is it necessary to complete a prerequisite quest before joining a bounty?can i edit my work after i’ve submitted it on the platform?')]"
            ]
          },
          "execution_count": 20,
          "metadata": {},
          "output_type": "execute_result"
        }
      ],
      "source": [
        "# Define a question about movies to ask\n",
        "question = \"What's a good movie about an epic viking?\"\n",
        "    \n",
        "# Convert the vector database to a retriever and get the relevant documents for a question\n",
        "print(\"These are the documents most relevant to the question:\")\n",
        "docsearch.as_retriever().invoke(question)"
      ]
    },
    {
      "cell_type": "code",
      "execution_count": null,
      "metadata": {},
      "outputs": [],
      "source": []
    }
  ],
  "metadata": {
    "colab": {
      "provenance": [],
      "toc_visible": true
    },
    "kernelspec": {
      "display_name": "Python 3",
      "name": "python3"
    },
    "language_info": {
      "codemirror_mode": {
        "name": "ipython",
        "version": 3
      },
      "file_extension": ".py",
      "mimetype": "text/x-python",
      "name": "python",
      "nbconvert_exporter": "python",
      "pygments_lexer": "ipython3",
      "version": "3.12.4"
    }
  },
  "nbformat": 4,
  "nbformat_minor": 0
}
