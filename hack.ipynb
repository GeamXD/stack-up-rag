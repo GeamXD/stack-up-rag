{
  "cells": [
    {
      "cell_type": "code",
      "execution_count": null,
      "metadata": {
        "id": "ALIM0jFzaMn9"
      },
      "outputs": [],
      "source": [
        "# !pip install -r requirements.txt"
      ]
    },
    {
      "cell_type": "code",
      "execution_count": null,
      "metadata": {
        "id": "hT7r1Lj3kgSN"
      },
      "outputs": [],
      "source": [
        "# !mkdir data\n",
        "# !mv stack-help_data.json data/"
      ]
    },
    {
      "cell_type": "code",
      "execution_count": 1,
      "metadata": {
        "colab": {
          "base_uri": "https://localhost:8080/",
          "height": 487
        },
        "id": "wxdzz_exY9vn",
        "metadata": {},
        "outputId": "d4782b75-d2e6-4d75-e84b-002e76ca7838"
      },
      "outputs": [],
      "source": [
        "import os\n",
        "import json\n",
        "import pandas as pd\n",
        "import datetime\n",
        "import re\n",
        "import string\n",
        "import numpy as np\n",
        "\n",
        "def wrangle_data(filepath: str) -> pd.DataFrame:\n",
        "    \"\"\"\n",
        "    This function reads in the data from the filepath, cleans it and returns a pandas dataframe\n",
        "\n",
        "    Args:\n",
        "    filepath: str: a path to the json file\n",
        "\n",
        "    Returns:\n",
        "    df: pd.DataFrame: a pandas dataframe with the cleaned data\n",
        "\n",
        "    \"\"\"\n",
        "    # load data\n",
        "    with open(filepath, 'r', encoding='utf-8') as f:\n",
        "        data = json.load(f)\n",
        "\n",
        "    # Get article body, urls and titles\n",
        "    doc = {\n",
        "        'article_title': data['article_link_title'],\n",
        "        'article_links': data['article_links'],\n",
        "        'article_body': data['article_body'],\n",
        "    }\n",
        "\n",
        "\n",
        "    # Store the data in a pandas dataframe\n",
        "    df = pd.DataFrame(doc)\n",
        "\n",
        "\n",
        "    ## Clean article title\n",
        "    # Remove the forward-slash character\n",
        "    df['article_title_cleaned'] = df['article_title'].str.replace(r\"\\/\",\"\")\n",
        "\n",
        "    # Remove punctuation\n",
        "    df['article_title_cleaned'] = df['article_title_cleaned'].str.translate(string.punctuation)\n",
        "\n",
        "    # Remove digits\n",
        "    df['article_title_cleaned'] = df['article_title_cleaned'].str.replace(r\"\\d+\",\"\")\n",
        "\n",
        "    # Remove running spaces\n",
        "    df['article_title_cleaned'] = df['article_title_cleaned'].str.replace(r\"\\s{2,}\",\"\")\n",
        "\n",
        "    # Make the text lowercase\n",
        "    df['article_title_cleaned'] = df['article_title_cleaned'].str.lower()\n",
        "\n",
        "    ## Clean article body\n",
        "\n",
        "    # Remove the forward-slash character\n",
        "    df['article_body_cleaned'] = df['article_body'].str.replace(r\"\\/\",\"\")\n",
        "\n",
        "    # Remove punctuation\n",
        "    df['article_body_cleaned'] = df['article_body_cleaned'].str.translate(string.punctuation)\n",
        "\n",
        "    # Remove digits\n",
        "    df['article_body_cleaned'] = df['article_body_cleaned'].str.replace(r\"\\d+\",\"\")\n",
        "\n",
        "    # Remove running spaces\n",
        "    df['article_body_cleaned'] = df['article_body_cleaned'].str.replace(r\"\\s{2,}\",\"\")\n",
        "\n",
        "    # Make the text lowercase\n",
        "    df['article_body_cleaned'] = df['article_body_cleaned'].str.lower()\n",
        "\n",
        "    # Remove double white space\n",
        "    df['article_body_cleaned'] = df['article_body_cleaned'].str.replace('  ', '')\n",
        "\n",
        "    # Fills empty article with word Empty\n",
        "    df['article_body_cleaned'] = df['article_body_cleaned'].replace('', 'Empty')\n",
        "\n",
        "    return df\n",
        "\n",
        "\n",
        "doc_df = wrangle_data('data/stack-help_data.json')"
      ]
    },
    {
      "cell_type": "code",
      "execution_count": 2,
      "metadata": {
        "colab": {
          "base_uri": "https://localhost:8080/"
        },
        "id": "tTqOy_yMkTQh",
        "metadata": {},
        "outputId": "1b456fab-3204-4b39-b50a-9acf56ae86e5"
      },
      "outputs": [
        {
          "name": "stderr",
          "output_type": "stream",
          "text": [
            "/tmp/ipykernel_495/2374481988.py:5: SettingWithCopyWarning: \n",
            "A value is trying to be set on a copy of a slice from a DataFrame\n",
            "\n",
            "See the caveats in the documentation: https://pandas.pydata.org/pandas-docs/stable/user_guide/indexing.html#returning-a-view-versus-a-copy\n",
            "  new_df.rename(columns={'article_title_cleaned': 'title', 'article_body_cleaned': 'page_content', 'article_links': 'urls'}, inplace=True)\n"
          ]
        }
      ],
      "source": [
        "# Import DataFrameLoader\n",
        "from langchain.document_loaders import DataFrameLoader\n",
        "\n",
        "new_df = doc_df[['article_title_cleaned', 'article_body_cleaned', 'article_links']]\n",
        "new_df.rename(columns={'article_title_cleaned': 'title', 'article_body_cleaned': 'page_content', 'article_links': 'urls'}, inplace=True)"
      ]
    },
    {
      "cell_type": "code",
      "execution_count": 3,
      "metadata": {
        "colab": {
          "base_uri": "https://localhost:8080/"
        },
        "id": "ttV9HaiKqXff",
        "metadata": {},
        "outputId": "148186f8-992f-4ca6-e43d-c3e9502d7d49"
      },
      "outputs": [
        {
          "data": {
            "text/plain": [
              "Document(metadata={'title': '21 collyer quay, singapore 049320', 'urls': 'https://stackuphelpcentre.zendesk.com/hc/en-us/articles/21537922604441-21-Collyer-Quay-Singapore-049320'}, page_content='Empty')"
            ]
          },
          "execution_count": 3,
          "metadata": {},
          "output_type": "execute_result"
        }
      ],
      "source": [
        "# The page content column is 'page_content'\n",
        "docs = DataFrameLoader(\n",
        "    new_df,\n",
        "    page_content_column=\"page_content\",\n",
        ").load()\n",
        "\n",
        "# Print the first 3 documents and the number of documents\n",
        "docs[-1]\n",
        "# display(f\"Number of documents: {len(docs)}\")"
      ]
    },
    {
      "cell_type": "code",
      "execution_count": 4,
      "metadata": {
        "id": "Qql0LsZztCDA",
        "metadata": {}
      },
      "outputs": [
        {
          "name": "stderr",
          "output_type": "stream",
          "text": [
            "/workspace/.pyenv_mirror/user/current/lib/python3.12/site-packages/pinecone/data/index.py:1: TqdmWarning: IProgress not found. Please update jupyter and ipywidgets. See https://ipywidgets.readthedocs.io/en/stable/user_install.html\n",
            "  from tqdm.autonotebook import tqdm\n"
          ]
        }
      ],
      "source": [
        "# Import os and pinecone\n",
        "import pinecone\n",
        "\n",
        "# Set the pinecone api key from the environment variable. Assign to api_key.\n",
        "api_key=os.getenv(\"PINECONE_API_KEY\")\n",
        "\n",
        "# Initialize pinecone using the `PINECONE_API_KEY` variable.\n",
        "pc = pinecone.Pinecone(api_key)\n",
        "\n",
        "# Import os and pinecone\n",
        "# Use this index name\n",
        "index_name = \"stackragapp\"\n",
        "\n",
        "# List the names of available indexes. Assign to existing_index_names.\n",
        "existing_index_names = [idx.name for idx in pc.list_indexes().indexes]\n",
        "\n",
        "# First check that the given index does not exist yet\n",
        "if index_name not in existing_index_names:\n",
        "    # Create the 'imbd-movies' index with cosine metric, 1536 dims, serverless spec: aws in us-east-1\n",
        "    pc.create_index(\n",
        "        name=index_name,\n",
        "        metric='cosine',\n",
        "        dimension=768,\n",
        "        spec=pinecone.ServerlessSpec(cloud=\"aws\", region=\"us-east-1\")\n",
        "    )"
      ]
    },
    {
      "cell_type": "code",
      "execution_count": 5,
      "metadata": {
        "colab": {
          "base_uri": "https://localhost:8080/",
          "height": 384
        },
        "id": "ZLsdw3K8wQpr",
        "metadata": {},
        "outputId": "37442e97-2117-497a-aaea-bbdfc5b76426"
      },
      "outputs": [],
      "source": [
        "from langchain_together import TogetherEmbeddings\n",
        "\n",
        "# Create the embeddings object\n",
        "embeddings = TogetherEmbeddings()\n",
        "\n",
        "# From the langchain_pinecone package, import PineconeVectorStore\n",
        "from langchain_pinecone import PineconeVectorStore\n",
        "\n",
        "# Create an index from its name\n",
        "index = pc.Index(index_name)"
      ]
    },
    {
      "cell_type": "code",
      "execution_count": 6,
      "metadata": {
        "colab": {
          "base_uri": "https://localhost:8080/",
          "height": 373
        },
        "id": "XMnDsWC1wkuc",
        "metadata": {},
        "outputId": "36f59c88-4efd-42ab-8d88-20f8c242365f"
      },
      "outputs": [
        {
          "name": "stdout",
          "output_type": "stream",
          "text": [
            "There are 74 vectors in the index already.\n"
          ]
        }
      ],
      "source": [
        "# Count the number of vectors in the index\n",
        "n_vectors = index.describe_index_stats()['total_vector_count']\n",
        "print(f\"There are {n_vectors} vectors in the index already.\")\n",
        "\n",
        "# Check if there is already some data in the index on Pinecone\n",
        "if n_vectors > 0:\n",
        "    # If there is, get the documents to search from the index. Assign to docsearch.\n",
        "    docsearch = PineconeVectorStore.from_existing_index(index_name, embeddings)\n",
        "else:\n",
        "    # If not, fill the index from the documents and return those docs to assign to docsearch\n",
        "    docsearch = PineconeVectorStore.from_documents(docs, embeddings, index_name=index_name)"
      ]
    },
    {
      "cell_type": "code",
      "execution_count": 12,
      "metadata": {
        "metadata": {}
      },
      "outputs": [
        {
          "name": "stdout",
          "output_type": "stream",
          "text": [
            "These are the documents most relevant to the question:\n"
          ]
        },
        {
          "data": {
            "text/plain": [
              "[Document(metadata={'title': '21 collyer quay, singapore 049320', 'urls': 'https://stackuphelpcentre.zendesk.com/hc/en-us/articles/21537922604441-21-Collyer-Quay-Singapore-049320'}, page_content='Empty'),\n",
              " Document(metadata={'title': 'want to stay updated on campaign drops and quest starts on discord?', 'urls': 'https://stackuphelpcentre.zendesk.com/hc/en-us/articles/32834633225113-Want-to-stay-updated-on-campaign-drops-and-quest-starts-on-Discord'}, page_content='join this channel on discord! \\u2060🔔｜campaign-quest-notifications'),\n",
              " Document(metadata={'title': '📕 need help for a quest?', 'urls': 'https://stackuphelpcentre.zendesk.com/hc/en-us/articles/15062396510745--Need-help-for-a-quest'}, page_content='our stackup team believes in stackies finding their solution by constructive collaboration. to better facilitate this process, we have created a forum in our discord server, in 🆘｜quest-help-forum. please read through the rules template for easier navigation of the space. moreover, you can stay updated by tuning in to our telegram channel and discord announcement channel. these channels will notify you of new campaigns, quest starts, and bounty opportunities. additionally, the discord announcement channel will post the appropriate and dedicated help desk channel per campaign nearing its launch date. these help desk channels will be expected to have tailored responses and discussions solely about a specific campaign/ quest. '),\n",
              " Document(metadata={'title': 'do you have any quest-specific concern? ', 'urls': 'https://stackuphelpcentre.zendesk.com/hc/en-us/articles/19283798338073-Do-you-have-any-Quest-specific-concern'}, page_content='head to #quest-help-forum on discord. select the quest you are participating in and start to communicate with our helpful stackies and moderators! related topics:which discord channels should i join or visit? new stackie guide to the discord community')]"
            ]
          },
          "execution_count": 12,
          "metadata": {},
          "output_type": "execute_result"
        }
      ],
      "source": [
        "# Define a question about movies to ask\n",
        "question = \"help me\"\n",
        "    \n",
        "# Convert the vector database to a retriever and get the relevant documents for a question\n",
        "print(\"These are the documents most relevant to the question:\")\n",
        "docsearch.as_retriever().invoke(question)"
      ]
    },
    {
      "cell_type": "code",
      "execution_count": null,
      "metadata": {},
      "outputs": [],
      "source": []
    },
    {
      "cell_type": "code",
      "execution_count": 16,
      "metadata": {
        "metadata": {}
      },
      "outputs": [],
      "source": [
        "DOCUMENT_PROMPT = \"\"\"\n",
        "Title: {title}\n",
        "page_content: {page_content}\n",
        "Help Center link: {urls}\n",
        "=========\"\"\"\n",
        "\n",
        "QUESTION_PROMPT = \"\"\"Given the following extracted parts of a help center data and a question, create a final answer with the Help Center link as source (\"SOURCE\").\n",
        "If you don't know the answer, just say that you don't know. Don't try to make up an answer.\n",
        "ALWAYS return a \"SOURCE\" part in your answer. YOU CAN RETURN MULTIPLE 'SOURCES' relevant to the question asked\n",
        "\n",
        "QUESTION: Tell me about bounty?\n",
        "=========\n",
        "Title: What is bounty?\n",
        "Description: The StackUp bounty program offers an additional opportunity for Stackies to engage in more advanced learning activities with higher expectations for their output. This program presents a new level of challenge compared to quests, allowing Stackies to tackle more complex challenges in exchange for a larger reward amount.\n",
        "Help Center link: https://stackuphelpcentre.zendesk.com/hc/en-us/articles/18932072999065-What-is-Bounty\n",
        "=========\n",
        "FINAL ANSWER: The StackUp bounty program provides Stackies with advanced learning opportunities and more challenging tasks than quests, offering higher rewards. Submissions are evaluated for quality and alignment with criteria, ensuring that only the best submissions receive rewards.\n",
        "SOURCE: https://stackuphelpcentre.zendesk.com/hc/en-us/categories/35260449941529-Earn-App\n",
        "\n",
        "QUESTION: {question}\n",
        "=========\n",
        "{summaries}\n",
        "FINAL ANSWER:\"\"\"\n"
      ]
    },
    {
      "cell_type": "code",
      "execution_count": 17,
      "metadata": {
        "metadata": {}
      },
      "outputs": [],
      "source": [
        "# Import PromptTemplate\n",
        "from langchain.prompts import PromptTemplate\n",
        "document_prompt = PromptTemplate.from_template(DOCUMENT_PROMPT)\n",
        "question_prompt = PromptTemplate.from_template(QUESTION_PROMPT)"
      ]
    },
    {
      "cell_type": "code",
      "execution_count": 18,
      "metadata": {
        "metadata": {}
      },
      "outputs": [],
      "source": [
        "# From the langchain.chains module, import RetrievalQAWithSourcesChain\n",
        "from langchain.chains import RetrievalQAWithSourcesChain\n",
        "\n",
        "# Querying chat models with Together AI\n",
        "from langchain_together import ChatTogether\n",
        "\n",
        "# choose from our 50+ models here: https://docs.together.ai/docs/inference-models\n",
        "llm = ChatTogether(\n",
        "    # together_api_key=\"YOUR_API_KEY\",\n",
        "    model=\"meta-llama/Llama-3-70b-chat-hf\",\n",
        "    temperature=0\n",
        ")"
      ]
    },
    {
      "cell_type": "code",
      "execution_count": 19,
      "metadata": {
        "metadata": {}
      },
      "outputs": [
        {
          "data": {
            "text/plain": [
              "{'question': 'tell me about hackathons',\n",
              " 'answer': \"Hackathons are events with varying participation guidelines, and it's necessary to review the individual hackathon listing to determine if participating as an individual is permitted. Additionally, suspended users are not allowed to join hackathons due to fraud policy enforcement. \\n\\n\",\n",
              " 'sources': 'https://stackuphelpcentre.zendesk.com/hc/en-us/articles/33323886215193-Is-it-possible-to-participate-in-a-hackathon-individually-without-team-members, https://stackuphelpcentre.zendesk.com/hc/en-us/articles/35134432316185-I-was-suspended-from-another-StackUp-app-Can-I-still-join-a-Hackathon'}"
            ]
          },
          "execution_count": 19,
          "metadata": {},
          "output_type": "execute_result"
        }
      ],
      "source": [
        "# Create the QA bot LLM chain\n",
        "qa_with_sources = RetrievalQAWithSourcesChain.from_chain_type(\n",
        "    chain_type=\"stuff\",\n",
        "    llm=llm,\n",
        "    chain_type_kwargs={\n",
        "        \"document_prompt\": document_prompt,\n",
        "        \"prompt\": question_prompt,\n",
        "    },\n",
        "    retriever=docsearch.as_retriever(),\n",
        ")\n",
        "\n",
        "# Invoke qa_with_sources to ask the LLM the question about movies\n",
        "qa_with_sources.invoke('tell me about hackathons')"
      ]
    },
    {
      "cell_type": "code",
      "execution_count": null,
      "metadata": {},
      "outputs": [],
      "source": []
    }
  ],
  "metadata": {
    "colab": {
      "provenance": [],
      "toc_visible": true
    },
    "kernelspec": {
      "display_name": "Python 3",
      "name": "python3"
    },
    "language_info": {
      "codemirror_mode": {
        "name": "ipython",
        "version": 3
      },
      "file_extension": ".py",
      "mimetype": "text/x-python",
      "name": "python",
      "nbconvert_exporter": "python",
      "pygments_lexer": "ipython3",
      "version": "3.12.4"
    }
  },
  "nbformat": 4,
  "nbformat_minor": 0
}
